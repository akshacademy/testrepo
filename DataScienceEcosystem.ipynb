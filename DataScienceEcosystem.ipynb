{
 "cells": [
  {
   "cell_type": "markdown",
   "id": "48fd5689",
   "metadata": {},
   "source": [
    "# <center>Data Science Tools and Ecosystem</center>"
   ]
  },
  {
   "cell_type": "markdown",
   "id": "26d63a30",
   "metadata": {},
   "source": [
    "## Introduction Data Science Tools and Ecosystem-\n",
    "#### The data science ecosystem includes a variety of programming languages, libraries, frameworks, and tools that help you perform tasks such as data manipulation, analysis, visualization, and modeling. These tools and technologies are used by data scientists, data analysts, machine learning engineers, and other professionals in the field to extract insights and build predictive models from large datasets"
   ]
  },
  {
   "cell_type": "markdown",
   "id": "228b7a27",
   "metadata": {},
   "source": [
    "## <center>Objectives of this notebook</center>\n",
    "\n",
    "* Creating documentation\n",
    "* Creating reports\n",
    "* Writing tutorials\n",
    "* Algorithm steps"
   ]
  },
  {
   "cell_type": "markdown",
   "id": "a03f2cb6",
   "metadata": {},
   "source": [
    "## Some of the popular languages that Data Scientists use are:\n",
    "\n",
    "1. Python\n",
    "2. R programing\n",
    "3. SQL\n",
    "4. Julia\n",
    "5. Scala"
   ]
  },
  {
   "cell_type": "markdown",
   "id": "f2e1d397",
   "metadata": {},
   "source": [
    "## Some of the commonly used libraries used by Data Scientists:\n",
    "\n",
    "1. SciPy\n",
    "2. Sci-Kit Learn\n",
    "3. Pandas \n",
    "4. TensorFlow"
   ]
  },
  {
   "cell_type": "markdown",
   "id": "3a311375",
   "metadata": {},
   "source": [
    "## Data Science tools\n",
    "\n",
    "| Data Science Tools |\n",
    "| --- | \n",
    "| Jupyter Notebook |\n",
    "| Apache Spark |\n",
    "| WEKA |"
   ]
  },
  {
   "cell_type": "markdown",
   "id": "86194306",
   "metadata": {},
   "source": [
    "### introduction of  arithmetic expression.\n",
    "|Operators Name|   Example  |\n",
    "|--|--|\n",
    "|Addition\t      |   x + y\t|\n",
    "|Subtraction\t  |   x - y\t|\n",
    "|Multiplication\t  |   x * y\t|\n",
    "|Division\t      |  x / y\t|\n",
    "|Modulus\t      |   x % y\t|\n"
   ]
  },
  {
   "cell_type": "code",
   "execution_count": 5,
   "id": "9f3505ef",
   "metadata": {},
   "outputs": [
    {
     "data": {
      "text/plain": [
       "17"
      ]
     },
     "execution_count": 5,
     "metadata": {},
     "output_type": "execute_result"
    }
   ],
   "source": [
    "#This a simple arithmetic expression to mutiply then add integers\n",
    "(3*4)+5"
   ]
  },
  {
   "cell_type": "code",
   "execution_count": 8,
   "id": "0b3331bf",
   "metadata": {},
   "outputs": [
    {
     "data": {
      "text/plain": [
       "3.3333333333333335"
      ]
     },
     "execution_count": 8,
     "metadata": {},
     "output_type": "execute_result"
    }
   ],
   "source": [
    "#This will convert 200 minutes to hours by diving by 60\n",
    "200/60"
   ]
  },
  {
   "cell_type": "markdown",
   "id": "a937854d",
   "metadata": {},
   "source": [
    "## Author\n",
    "\n",
    "Shivam Rajavat"
   ]
  }
 ],
 "metadata": {
  "kernelspec": {
   "display_name": "Python 3 (ipykernel)",
   "language": "python",
   "name": "python3"
  },
  "language_info": {
   "codemirror_mode": {
    "name": "ipython",
    "version": 3
   },
   "file_extension": ".py",
   "mimetype": "text/x-python",
   "name": "python",
   "nbconvert_exporter": "python",
   "pygments_lexer": "ipython3",
   "version": "3.9.13"
  }
 },
 "nbformat": 4,
 "nbformat_minor": 5
}
